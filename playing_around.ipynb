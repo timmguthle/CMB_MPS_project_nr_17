{
 "cells": [
  {
   "cell_type": "code",
   "execution_count": 9,
   "id": "b15b53ca",
   "metadata": {},
   "outputs": [],
   "source": [
    "import numpy as np\n",
    "import matplotlib.pyplot as plt\n",
    "from scipy import sparse as sp\n",
    "import scipy\n",
    "\n"
   ]
  },
  {
   "cell_type": "markdown",
   "id": "02c15e29",
   "metadata": {},
   "source": [
    "Heisenberg model Hamiltonian:\n",
    "\n",
    "$$\n",
    "H = \\sum_{i} \\sum_{j>i} J e^{\\frac{-|i-j|}{\\xi}} \\mathbf{S}_i \\cdot \\mathbf{S}_j\n",
    "$$"
   ]
  },
  {
   "cell_type": "code",
   "execution_count": 14,
   "id": "5c5d9b56",
   "metadata": {},
   "outputs": [],
   "source": [
    "L = 10"
   ]
  },
  {
   "cell_type": "code",
   "execution_count": 15,
   "id": "4183f1ca",
   "metadata": {},
   "outputs": [],
   "source": [
    "# spins are on a 1D lattice, pointing up or down (z-direction)\n",
    "# only Sz operator relevant.\n",
    "Sz = sp.csr_matrix([[1., 0.], [0., -1.]])\n",
    "\n",
    "def sigma_z(L=10):\n",
    "    return_list = []\n",
    "    for i in range(L):\n",
    "        # i * id, then S_z, then (L-i-1) * id\n",
    "        operator = sp.kron(sp.eye(2**i), Sz, format='csr')\n",
    "        operator = sp.kron(operator, sp.eye(2**(L-i-1)), format='csr')\n",
    "        return_list.append(operator)\n",
    "\n",
    "    return return_list\n",
    "\n",
    "\n",
    "def gen_hamiltonian(sz_list, J=1.0, xi=0.1):\n",
    "    L = len(sz_list)\n",
    "    H = sp.csr_matrix((2**len(sz_list), 2**len(sz_list)), dtype=np.float64)\n",
    "    for j in range(L):\n",
    "        for i in range(j + 1, L):\n",
    "            H += J * np.exp(-abs(i-j) / xi) * sz_list[i].dot(sz_list[j])\n",
    "\n",
    "    return H\n",
    "\n",
    "def compress(psi, L, chi_max):\n",
    "    return_list = []\n",
    "    psi = psi.reshape((1, 2**L)) # initial reshape\n",
    "    chi_n = 1 # only for the first one\n",
    "    for n in range(L):\n",
    "        \n",
    "        psi_new = psi.reshape((chi_n * 2, 2**(L-n-1))) # psi _ Ln _ Rn+1\n",
    "        # print(\"psi_new shape:\", psi_new.shape)\n",
    "\n",
    "        #SVD decomposition\n",
    "        U, S, Vh = np.linalg.svd(psi_new, full_matrices=False)\n",
    "\n",
    "        keep = np.argsort(S)[:: -1][:chi_max]\n",
    "        M_n = U[:,keep]\n",
    "        lambda_ = S[keep]\n",
    "        psitilde = Vh[keep,:]\n",
    "\n",
    "        M_new = M_n.reshape((chi_n, 2, -1))  # (chi_n, 2, chi_n+1)\n",
    "\n",
    "        return_list.append(M_new)\n",
    "\n",
    "        chi_n = M_new.shape[2]  # new chi_n\n",
    "        psi = lambda_[:, np.newaxis] * psitilde # prepare for next step\n",
    "        \n",
    "    return return_list\n",
    "\n",
    "H = gen_hamiltonian(sigma_z(L), J=1.0, xi=1.0)"
   ]
  },
  {
   "cell_type": "code",
   "execution_count": 16,
   "id": "844bf05e",
   "metadata": {},
   "outputs": [],
   "source": [
    "eig_values, gs = scipy.sparse.linalg.eigsh(H, k=3, which='SA') \n",
    "ground_state = np.real(gs[:, 0])\n",
    "\n",
    "psi = ground_state\n",
    "res = compress(psi, L, chi_max=1000)\n"
   ]
  },
  {
   "cell_type": "code",
   "execution_count": 18,
   "id": "7dcf485c",
   "metadata": {},
   "outputs": [
    {
     "name": "stdout",
     "output_type": "stream",
     "text": [
      "(1, 2, 2)\n",
      "(2, 2, 4)\n",
      "(4, 2, 8)\n",
      "(8, 2, 16)\n",
      "(16, 2, 32)\n",
      "(32, 2, 16)\n",
      "(16, 2, 8)\n",
      "(8, 2, 4)\n",
      "(4, 2, 2)\n",
      "(2, 2, 1)\n"
     ]
    }
   ],
   "source": [
    "for n, M in enumerate(res):\n",
    "    print(M.shape)"
   ]
  },
  {
   "cell_type": "code",
   "execution_count": null,
   "id": "60d8fbd1",
   "metadata": {},
   "outputs": [],
   "source": []
  }
 ],
 "metadata": {
  "kernelspec": {
   "display_name": "physics2",
   "language": "python",
   "name": "python3"
  },
  "language_info": {
   "codemirror_mode": {
    "name": "ipython",
    "version": 3
   },
   "file_extension": ".py",
   "mimetype": "text/x-python",
   "name": "python",
   "nbconvert_exporter": "python",
   "pygments_lexer": "ipython3",
   "version": "3.12.0"
  }
 },
 "nbformat": 4,
 "nbformat_minor": 5
}
