{
 "cells": [
  {
   "cell_type": "code",
   "execution_count": 3,
   "id": "138d6cce",
   "metadata": {},
   "outputs": [
    {
     "name": "stdout",
     "output_type": "stream",
     "text": [
      "The autoreload extension is already loaded. To reload it, use:\n",
      "  %reload_ext autoreload\n"
     ]
    }
   ],
   "source": [
    "%load_ext autoreload\n",
    "%autoreload 2\n",
    "\n",
    "import numpy as np\n",
    "import matplotlib.pyplot as plt\n",
    "import scipy\n",
    "\n",
    "import tensorNets.a_mps as a_mps\n",
    "import tensorNets.b_model as b_model\n",
    "import tensorNets.d_dmrg as d_dmrg\n",
    "\n",
    "from heisenbergModel import HeisenbergModel"
   ]
  },
  {
   "cell_type": "markdown",
   "id": "2d890a2c",
   "metadata": {},
   "source": [
    "The Heisenberg model is build in `HeisenbergModel.py`. We only want to perform DMRG, so the only relevant function is `generate_H_mpo()`\n",
    "\n",
    "rewrite Hamiltonian:\n",
    "$$\n",
    "H = J \\sum_{i<j} \\lambda ^{j-i} \\sum_{\\alpha = x,y,z} S_i^\\alpha S_j^\\alpha \\qquad \\lambda = e ^{-\\frac{1}{\\xi}}\n",
    "$$"
   ]
  },
  {
   "cell_type": "code",
   "execution_count": 5,
   "id": "97f09c53",
   "metadata": {},
   "outputs": [],
   "source": [
    "# hyperparameters\n",
    "L = 10  # system size\n",
    "J = 1.0  # coupling strength\n",
    "XI = 1.0  # correlation length"
   ]
  },
  {
   "cell_type": "code",
   "execution_count": 53,
   "id": "c8f4823f",
   "metadata": {},
   "outputs": [],
   "source": [
    "def init_spindown_MPS(L):\n",
    "    \"\"\"Return a product state with all spins up as an MPS\"\"\"\n",
    "    B = np.zeros([1, 2, 1], np.float64)\n",
    "    B[0, 0, 0] = -1.\n",
    "    S = np.ones([1], np.float64)\n",
    "    Bs = [B.copy() for i in range(L)]\n",
    "    Ss = [S.copy() for i in range(L)]\n",
    "    return a_mps.MPS(Bs, Ss)"
   ]
  },
  {
   "cell_type": "code",
   "execution_count": 54,
   "id": "1fdc8d9d",
   "metadata": {},
   "outputs": [],
   "source": [
    "mps = init_spindown_MPS(L)\n",
    "model = HeisenbergModel(L, J, XI)\n",
    "engine = d_dmrg.DMRGEngine(mps, model)"
   ]
  },
  {
   "cell_type": "code",
   "execution_count": 55,
   "id": "9c72cffa",
   "metadata": {},
   "outputs": [
    {
     "data": {
      "text/plain": [
       "array(3.3293076)"
      ]
     },
     "execution_count": 55,
     "metadata": {},
     "output_type": "execute_result"
    }
   ],
   "source": [
    "engine.calculate_energy()"
   ]
  },
  {
   "cell_type": "code",
   "execution_count": 59,
   "id": "95e6a524",
   "metadata": {},
   "outputs": [
    {
     "data": {
      "text/plain": [
       "array([[0.36787944+0.j, 0.        +0.j],\n",
       "       [0.        +0.j, 0.36787944+0.j]])"
      ]
     },
     "execution_count": 59,
     "metadata": {},
     "output_type": "execute_result"
    }
   ],
   "source": [
    "model.H_mpo[0][1,1]"
   ]
  },
  {
   "cell_type": "code",
   "execution_count": 64,
   "id": "17d2439b",
   "metadata": {},
   "outputs": [],
   "source": [
    "# function to run the DMRG algorithm\n",
    "\n",
    "def run_dmrg_simulation(L, J, xi, max_sweeps=20, tol=1e-9):\n",
    "    mps = a_mps.init_spinup_MPS(L)\n",
    "    model = HeisenbergModel(L, J, xi)\n",
    "    engine = d_dmrg.DMRGEngine(mps, model)\n",
    "\n",
    "    # E_exact = tfi_exact.finite_gs_energy(L, J, g)\n",
    "\n",
    "    E, E_prev = 0, 0\n",
    "\n",
    "    for i in range(max_sweeps):\n",
    "        engine.sweep()\n",
    "        E_prev = E\n",
    "        E = engine.calculate_energy()\n",
    "        print(\"Energy:\", E)\n",
    "        # print(\"Energy error:\", E - E_exact)\n",
    "        if np.abs(E - E_prev) < tol:\n",
    "            print(f\"The system is converged after {i+1} sweeps!\")\n",
    "            break\n",
    "    \n",
    "    return model, mps, engine"
   ]
  },
  {
   "cell_type": "code",
   "execution_count": null,
   "id": "420eaed3",
   "metadata": {},
   "outputs": [
    {
     "name": "stdout",
     "output_type": "stream",
     "text": [
      "Energy: -8.916907090342443\n",
      "Energy: -8.96464826734616\n",
      "Energy: -8.964964767964258\n",
      "Energy: -8.96496477042869\n",
      "Energy: -8.964964770428665\n",
      "The system is converged after 5 sweeps!\n"
     ]
    }
   ],
   "source": [
    "model, mps, engine = run_dmrg_simulation(24, J, XI, tol=1e-10)"
   ]
  },
  {
   "cell_type": "code",
   "execution_count": 68,
   "id": "866c73e7",
   "metadata": {},
   "outputs": [
    {
     "data": {
      "text/plain": [
       "array([[[-8.74190536e+00+2.82918907e-16j,\n",
       "          4.29621931e-14+3.58197847e-14j],\n",
       "        [ 3.88946128e-01-9.63482130e-19j,\n",
       "          2.02388663e-01+8.23512938e-02j],\n",
       "        [-7.30529411e-02+2.02750723e-17j,\n",
       "         -3.80132002e-02+4.38452120e-01j],\n",
       "        [ 2.05927594e-01-1.69881558e-18j,\n",
       "         -3.95747170e-01+3.98602238e-16j],\n",
       "        [ 1.00000000e+00-4.64256619e-18j,\n",
       "         -4.68451750e-15-3.79562578e-15j]],\n",
       "\n",
       "       [[ 4.23815640e-14-3.56888591e-14j,\n",
       "         -8.74190536e+00+5.01773765e-16j],\n",
       "        [ 2.02388663e-01-8.23512938e-02j,\n",
       "         -3.88946128e-01+1.58235370e-17j],\n",
       "        [-3.80132002e-02-4.38452120e-01j,\n",
       "          7.30529411e-02+2.98762651e-17j],\n",
       "        [-3.95747170e-01-3.85413084e-16j,\n",
       "         -2.05927594e-01+2.75800248e-17j],\n",
       "        [-4.66194552e-15+3.79095956e-15j,\n",
       "          1.00000000e+00-5.36531486e-17j]]])"
      ]
     },
     "execution_count": 68,
     "metadata": {},
     "output_type": "execute_result"
    }
   ],
   "source": [
    "engine.RPs[0]"
   ]
  },
  {
   "cell_type": "code",
   "execution_count": null,
   "id": "34d8d479",
   "metadata": {},
   "outputs": [],
   "source": []
  }
 ],
 "metadata": {
  "kernelspec": {
   "display_name": "physics2",
   "language": "python",
   "name": "python3"
  },
  "language_info": {
   "codemirror_mode": {
    "name": "ipython",
    "version": 3
   },
   "file_extension": ".py",
   "mimetype": "text/x-python",
   "name": "python",
   "nbconvert_exporter": "python",
   "pygments_lexer": "ipython3",
   "version": "3.12.0"
  }
 },
 "nbformat": 4,
 "nbformat_minor": 5
}
